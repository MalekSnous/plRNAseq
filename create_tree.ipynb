{
 "cells": [
  {
   "cell_type": "code",
   "execution_count": 23,
   "metadata": {
    "ExecuteTime": {
     "end_time": "2023-05-30T13:52:55.427122132Z",
     "start_time": "2023-05-30T13:52:55.380825477Z"
    },
    "collapsed": false,
    "jupyter": {
     "outputs_hidden": false
    }
   },
   "outputs": [
    {
     "name": "stdout",
     "output_type": "stream",
     "text": [
      "module: 50 lenght of tree : 3 nb_genes : 50 alpha_value : 0.1 topology : binary\n"
     ]
    }
   ],
   "source": [
    "import os\n",
    "import anndata as ad\n",
    "from scanpy import pp\n",
    "from scanpy.tl import diffmap\n",
    "import numpy as np\n",
    "from numpy import random\n",
    "import scipy as sp\n",
    "from prosstt import tree\n",
    "from prosstt import simulation as sim\n",
    "from prosstt import sim_utils as sut\n",
    "from scanpy.tl import umap\n",
    "import matplotlib.cm as cm\n",
    "import matplotlib.pyplot as plt\n",
    "from prosstt import tree\n",
    "from sklearn.multiclass import OneVsRestClassifier\n",
    "from sklearn.svm import SVC\n",
    "from sklearn.model_selection import train_test_split\n",
    "from sklearn.metrics import f1_score\n",
    "#set random seed for reproducability\n",
    "\n",
    "rseed = 1312\n",
    "random.seed(rseed)\n",
    "\n",
    "\n",
    "topology_list = ['linear', 'binary', 'half']\n",
    "topology = topology_list[1]\n",
    "lenght_tree = 3\n",
    "\n",
    "#\n",
    "value = 0.1\n",
    "modules = 12  # nb de programme genetique\n",
    "modules = 50\n",
    "\n",
    "draw = True\n",
    "multi_draw = False\n",
    "\n",
    "\n",
    "nb_genes = 50\n",
    "\n",
    "value_list = [0.1,0.5,1.0]  # alpha in NB sampling\n",
    "\n",
    "save = False\n",
    "print('module:', modules, 'lenght of tree :', lenght_tree, 'nb_genes :', nb_genes, 'alpha_value :',value,  'topology :', topology)"
   ]
  },
  {
   "cell_type": "code",
   "execution_count": null,
   "metadata": {},
   "outputs": [],
   "source": []
  },
  {
   "cell_type": "code",
   "execution_count": 45,
   "metadata": {
    "collapsed": false,
    "jupyter": {
     "outputs_hidden": false
    }
   },
   "outputs": [],
   "source": [
    "\n",
    "number_tree = topology\n",
    "nfactor = 11 # nb_sample_per_node = nfactor*10\n",
    "name_tree = '_'+str(modules)+'_'+str(value)\n",
    "name_file_to_save = '/home/malek/data/prosstt_data/Tree/'+str(topology)+'/'+str(lenght_tree)+'/'\n",
    "if save :\n",
    "    os.makedirs(name_file_to_save, exist_ok=True)\n",
    "\n"
   ]
  },
  {
   "cell_type": "code",
   "execution_count": 25,
   "metadata": {
    "collapsed": false,
    "jupyter": {
     "outputs_hidden": false
    }
   },
   "outputs": [],
   "source": [
    "def create_tree(lenght=5, topology='binary') :\n",
    "\n",
    "    list_edge = []\n",
    "    dict_edges = {}\n",
    "\n",
    "\n",
    "    if topology == 'binary' :\n",
    "        list_of_nodes = [element for element in range(sum([2**i for i in range(lenght + 1)]))]\n",
    "\n",
    "        #init\n",
    "        dict_edges[list_of_nodes[0]] = [list_of_nodes[1], list_of_nodes[2]]\n",
    "        list_edge.append([str(list_of_nodes[0]), str(list_of_nodes[1])])\n",
    "        list_edge.append([str(list_of_nodes[0]), str(list_of_nodes[2])])\n",
    "\n",
    "        for t in range(1,lenght) :\n",
    "\n",
    "            nodes_parent = list_of_nodes[2**(t -1) -1 : 2**(t) -1 ]\n",
    "            nodes = list_of_nodes[2**t -1 : 2**(t+1) -1 ]\n",
    "            nodes_child = list_of_nodes[2 ** (t+1) - 1: 2 ** (t + 2) - 1]\n",
    "            print(nodes_parent, nodes, nodes_child)\n",
    "\n",
    "            for indice, node in enumerate(nodes) :\n",
    "                liste_descendant = [nodes_child[2*indice], nodes_child[2*indice+1]]\n",
    "                liste_ascendante = [nodes_parent[int(indice/2)]]\n",
    "                dict_edges[node] = liste_descendant + liste_ascendante\n",
    "                list_edge.append([str(node), str(nodes_child[2*indice])])\n",
    "                list_edge.append([str(node), str(nodes_child[2 * indice+1]) ])\n",
    "\n",
    "        for indice, node in enumerate(nodes):\n",
    "            dict_edges[nodes_child[2 * indice]] = [node]\n",
    "            dict_edges[nodes_child[2 * indice + 1]] = [node]\n",
    "\n",
    "    if topology == 'linear':\n",
    "        list_of_nodes = [i for i in range(lenght +1 )]\n",
    "        \n",
    "        #init\n",
    "        dict_edges[list_of_nodes[0]] = [list_of_nodes[1]]\n",
    "        list_edge.append([str(list_of_nodes[0]), str(list_of_nodes[1])])\n",
    "\n",
    "        for t in range(1, lenght):\n",
    "            \n",
    "            nodes_parent = list_of_nodes[t-1]\n",
    "            nodes = list_of_nodes[t]\n",
    "            nodes_child = list_of_nodes[t+1]\n",
    "\n",
    "            liste_of_neighboor = [nodes_parent, nodes_child]\n",
    "            dict_edges[nodes] = liste_of_neighboor\n",
    "            list_edge.append([str(nodes), str(nodes_child)])\n",
    "\n",
    "        dict_edges[t] = [list_of_nodes[t -1],list_of_nodes[t + 1]]\n",
    "        dict_edges[t+1] = [list_of_nodes[t]]\n",
    "\n",
    "    if topology == 'half':\n",
    "        list_of_nodes = [element for element in range(sum([1 + i for i in range(lenght + 1)]))]\n",
    "        dict_edges = {}\n",
    "        list_edge = []\n",
    "        # init\n",
    "        dict_edges[list_of_nodes[0]] = [list_of_nodes[1], list_of_nodes[2]]\n",
    "        list_edge.append([str(list_of_nodes[0]), str(list_of_nodes[1])])\n",
    "        list_edge.append([str(list_of_nodes[0]), str(list_of_nodes[2])])\n",
    "\n",
    "        for t in range(1, lenght):\n",
    "            nodes_parent = list_of_nodes[sum([1 + i for i in range(t - 1)]): sum([1 + i for i in range(t)])]\n",
    "            nodes = list_of_nodes[sum([1 + i for i in range(t)]): sum([1 + i for i in range(t + 1)])]\n",
    "            nodes_child = list_of_nodes[sum([1 + i for i in range(t + 1)]): sum([1 + i for i in range(t + 2)])]\n",
    "\n",
    "            #print(nodes_parent, nodes, nodes_child)\n",
    "\n",
    "            for indice, node in enumerate(nodes):\n",
    "                if indice == 0:\n",
    "                    liste_descendant = [nodes_child[indice], nodes_child[indice + 1]]\n",
    "                    liste_ascendante = [nodes_parent[indice]]\n",
    "                    list_edge.append([str(node), str(nodes_child[2 * indice])])\n",
    "                    list_edge.append([str(node), str(nodes_child[2 * indice + 1])])\n",
    "                if indice != 0:\n",
    "                    liste_descendant = [nodes_child[indice + 1]]\n",
    "                    if indice == 1:\n",
    "                        liste_ascendante = [nodes_parent[int(indice / 2)]]\n",
    "                    else:\n",
    "                        liste_ascendante = [nodes_parent[indice - 1]]\n",
    "                    list_edge.append([str(node), str(nodes_child[indice + 1])])\n",
    "\n",
    "                dict_edges[node] = liste_descendant + liste_ascendante\n",
    "\n",
    "        for indice, node in enumerate(nodes):\n",
    "            if indice == 0:\n",
    "                dict_edges[nodes_child[indice]] = [node]\n",
    "            dict_edges[nodes_child[indice + 1]] = [node]\n",
    "\n",
    "    return list_edge, dict_edges\n",
    "\n",
    "\n"
   ]
  },
  {
   "cell_type": "code",
   "execution_count": 26,
   "metadata": {
    "collapsed": false,
    "jupyter": {
     "outputs_hidden": false
    }
   },
   "outputs": [
    {
     "name": "stdout",
     "output_type": "stream",
     "text": [
      "[0] [1, 2] [3, 4, 5, 6]\n",
      "[1, 2] [3, 4, 5, 6] [7, 8, 9, 10, 11, 12, 13, 14]\n",
      "{0: [1, 2], 1: [3, 4, 0], 2: [5, 6, 0], 3: [7, 8, 1], 4: [9, 10, 1], 5: [11, 12, 2], 6: [13, 14, 2], 7: [3], 8: [3], 9: [4], 10: [4], 11: [5], 12: [5], 13: [6], 14: [6]}\n",
      "[['0', '1'], ['0', '2'], ['1', '3'], ['1', '4'], ['2', '5'], ['2', '6'], ['3', '7'], ['3', '8'], ['4', '9'], ['4', '10'], ['5', '11'], ['5', '12'], ['6', '13'], ['6', '14']]\n"
     ]
    }
   ],
   "source": [
    "list_edge, dict_edges = create_tree(lenght=lenght_tree, topology=topology)\n",
    "print(dict_edges)\n",
    "print(list_edge)"
   ]
  },
  {
   "cell_type": "code",
   "execution_count": 46,
   "metadata": {
    "collapsed": false,
    "jupyter": {
     "outputs_hidden": false
    }
   },
   "outputs": [],
   "source": [
    "\n",
    "top = list_edge\n",
    "branches = np.unique(np.array(top).flatten())\n",
    "time = {b: nfactor*10 for b in branches}  #ce qui revient au nombre de cell généré car ça définit la densité dans le sampling\n",
    "G = nb_genes\n",
    "t = tree.Tree(topology=top, G=G, time=time, num_branches=len(branches), branch_points=1, modules=modules)\n",
    "\n",
    "\n",
    "uMs, Ws, Hs = sim.simulate_lineage(t, intra_branch_tol=-1, inter_branch_tol=0)\n",
    "gene_scale = sut.simulate_base_gene_exp(t, uMs)\n",
    "t.add_genes(uMs, gene_scale)\n",
    "\n",
    "mya = np.min([0.05, 1 / t.modules])\n",
    "uMs, Ws, Hs = sim.simulate_lineage(t, a=mya, intra_branch_tol=-1, inter_branch_tol=0)\n",
    "gene_scale = sut.simulate_base_gene_exp(t, uMs)\n",
    "t.add_genes(uMs, gene_scale)\n",
    "\n",
    "alpha = np.array([value]*t.G)\n",
    "beta = np.array([1.5] * t.G)\n",
    "\n",
    "X, labs, brns, scalings = sim.sample_whole_tree(t, n_factor=nfactor, alpha=alpha, beta=beta)\n",
    "X = (X.transpose() / scalings).transpose()\n",
    "\n",
    "br_names, indices = np.unique(brns, return_inverse=True)\n",
    "\n"
   ]
  },
  {
   "cell_type": "code",
   "execution_count": 28,
   "metadata": {
    "collapsed": false,
    "jupyter": {
     "outputs_hidden": false
    }
   },
   "outputs": [
    {
     "data": {
      "image/png": "[encoded data removed]",
      "text/plain": [
       "<Figure size 432x288 with 1 Axes>"
      ]
     },
     "metadata": {
      "needs_background": "light"
     },
     "output_type": "display_data"
    }
   ],
   "source": [
    "\n",
    "if draw :\n",
    "    data = ad.AnnData(np.log(X + 1))\n",
    "    pp.neighbors(data, use_rep='X')\n",
    "    umap(data)\n",
    "    dm = data.obsm[\"X_umap\"]\n",
    "    fig = plt.figure()\n",
    "    dm = data.obsm[\"X_umap\"]\n",
    "    br_names, indices = np.unique(brns, return_inverse=True)\n",
    "    plt.scatter(dm[:, 0], dm[:, 1], c=labs, alpha=0.2)\n",
    "    if save : \n",
    "        plt.savefig(name_file_to_save+'X_Tree'+str(name_tree)+'.jpeg')\n",
    "    plt.show()\n",
    "\n"
   ]
  },
  {
   "cell_type": "code",
   "execution_count": 7,
   "metadata": {},
   "outputs": [
    {
     "data": {
      "image/png": "[encoded data removed]",
      "text/plain": [
       "<Figure size 432x288 with 1 Axes>"
      ]
     },
     "metadata": {
      "needs_background": "light"
     },
     "output_type": "display_data"
    }
   ],
   "source": [
    "# dm = data.obsm[\"X_umap\"]\n",
    "# fig = plt.figure()\n",
    "# dm = data.obsm[\"X_umap\"]\n",
    "# br_names, indices = np.unique(brns, return_inverse=True)\n",
    "# plt.scatter(dm[:, 0], dm[:, 1], c=labs, alpha=0.2)\n",
    "# if save : \n",
    "#         plt.savefig(name_file_to_save+'X_Tree'+str(name_tree)+'+-'+str(value)+'.jpeg')"
   ]
  },
  {
   "cell_type": "code",
   "execution_count": 8,
   "metadata": {
    "collapsed": false,
    "jupyter": {
     "outputs_hidden": false
    }
   },
   "outputs": [],
   "source": [
    "\n",
    "if multi_draw :\n",
    "    fig, ax = plt.subplots(nrows=1,ncols=2)\n",
    "\n",
    "    for v,value in enumerate([0.1, 1]):\n",
    "        alpha = np.array([value]*t.G)\n",
    "        beta = np.array([value*10]*t.G)\n",
    "        beta = np.array([1.5] * t.G)\n",
    "        X, labs, brns, scalings = sim.sample_whole_tree(t, n_factor=nfactor, alpha=alpha, beta=beta)\n",
    "        # normalize gene expression by library size\n",
    "        X = (X.transpose() / scalings).transpose()\n",
    "        data = ad.AnnData(np.log(X+1))\n",
    "        pp.neighbors(data, use_rep='X')\n",
    "        umap(data)\n",
    "        dm = data.obsm[\"X_umap\"]\n",
    "        br_names, indices = np.unique(brns, return_inverse=True)\n",
    "\n",
    "        #ax[0][v].scatter(dm[:, 0], dm[:, 1], c=indices, alpha=0.2)\n",
    "        ax[v].scatter(dm[:, 0], dm[:, 1], c=labs, alpha=0.2)\n",
    "\n",
    "    if save :\n",
    "        plt.savefig(name_file_to_save+'X_Tree'+str(number_tree)+'+-'+str(value)+'.jpeg')\n",
    "    plt.show()\n",
    "    #np.save(name_file_to_save+'X_Tree'+str(number_tree)+'+-', X)"
   ]
  },
  {
   "cell_type": "code",
   "execution_count": 48,
   "metadata": {
    "collapsed": false,
    "jupyter": {
     "outputs_hidden": false
    }
   },
   "outputs": [],
   "source": [
    "\n",
    "set_names = br_names.tolist()\n",
    "X, y = X, brns\n"
   ]
  },
  {
   "cell_type": "code",
   "execution_count": 39,
   "metadata": {
    "collapsed": false,
    "jupyter": {
     "outputs_hidden": false
    }
   },
   "outputs": [],
   "source": [
    "def BFS_SP(graph, start, goal):\n",
    "    explored = []\n",
    "    queue = [[start]]\n",
    "    if start == goal:\n",
    "        print(\"Same Node\")\n",
    "        return\n",
    "    while queue:\n",
    "        path = queue.pop(0)\n",
    "        node = path[-1]\n",
    "        if node not in explored:\n",
    "            neighbours = graph[node]\n",
    "            for neighbour in neighbours:\n",
    "                new_path = list(path)\n",
    "                new_path.append(neighbour)\n",
    "                queue.append(new_path)\n",
    "                if neighbour == goal:\n",
    "                    return len(new_path) - 1\n",
    "    print(\"So sorry, but a connecting path doesn't exist :(\")\n",
    "    return explored\n",
    "\n",
    "def create_matrix_from_dic(dic):\n",
    "    names_genea = sorted(list(set(list(sorted(dic.keys())))))\n",
    "    c = len(dic)\n",
    "    mat_adj = np.zeros((c, c))\n",
    "    for i in range(c):\n",
    "        for j in dic[names_genea[i]]:\n",
    "            index_j = names_genea.index(j)\n",
    "            mat_adj[i, index_j] = 1\n",
    "\n",
    "    list_exception = np.where(mat_adj - mat_adj.T > 0)\n",
    "\n",
    "    mat_dist = np.zeros((c, c))\n",
    "    for i in range(c):\n",
    "        for j in range(i + 1, c):\n",
    "            mat_dist[i, j] = BFS_SP(dic, names_genea[i], names_genea[j])\n",
    "\n",
    "\n",
    "    return mat_adj, mat_dist + mat_dist.T\n"
   ]
  },
  {
   "cell_type": "code",
   "execution_count": 40,
   "metadata": {
    "collapsed": false,
    "jupyter": {
     "outputs_hidden": false
    }
   },
   "outputs": [],
   "source": [
    "liste_edges = t.topology\n",
    "liste_neighboors = [[element[0]  for element in liste_edges  if (key in element[1]) ] + [element[1]  for element in liste_edges  if (key in element[0]) ]   for key in br_names]\n",
    "#dict_edges_bis = dict(zip(br_names,liste_neighboors))"
   ]
  },
  {
   "cell_type": "code",
   "execution_count": null,
   "metadata": {},
   "outputs": [],
   "source": []
  },
  {
   "cell_type": "code",
   "execution_count": 41,
   "metadata": {},
   "outputs": [],
   "source": [
    "import networkx as nx\n",
    "def create_C(dict_edges):\n",
    "    G = nx.Graph(dict_edges)\n",
    "    nodes = list(G.nodes)\n",
    "    c = len(nodes)\n",
    "    mat_dist = np.zeros((c, c))\n",
    "    for i in range(c):\n",
    "        for j in range(i + 1, c):\n",
    "            mat_dist[i, j] = len(nx.shortest_path(G, source=i, target=j)) -1\n",
    "    return mat_dist + mat_dist.T\n"
   ]
  },
  {
   "cell_type": "code",
   "execution_count": 42,
   "metadata": {},
   "outputs": [],
   "source": [
    "mat_dist = create_C(dict_edges)"
   ]
  },
  {
   "cell_type": "code",
   "execution_count": 43,
   "metadata": {},
   "outputs": [
    {
     "data": {
      "text/plain": [
       "array([1., 0., 2., 1., 1., 3., 3., 2., 2., 2., 2., 4., 4., 4., 4.])"
      ]
     },
     "execution_count": 43,
     "metadata": {},
     "output_type": "execute_result"
    }
   ],
   "source": [
    "mat_dist[1]"
   ]
  },
  {
   "cell_type": "code",
   "execution_count": 49,
   "metadata": {},
   "outputs": [
    {
     "name": "stdout",
     "output_type": "stream",
     "text": [
      "(18150, 50)\n",
      "18150\n",
      "(15, 15)\n",
      "11\n"
     ]
    }
   ],
   "source": [
    "print(X.shape)\n",
    "print(len(y))\n",
    "print(mat_dist.shape)\n",
    "print(nfactor)"
   ]
  },
  {
   "cell_type": "code",
   "execution_count": 16,
   "metadata": {},
   "outputs": [
    {
     "data": {
      "text/plain": [
       "'_50_0.1_nfactor_10'"
      ]
     },
     "execution_count": 16,
     "metadata": {},
     "output_type": "execute_result"
    }
   ],
   "source": [
    "save = True\n",
    "name_tree = '_'+str(modules)+'_'+str(value)+'_nfactor_'+str(nfactor)\n",
    "name_tree"
   ]
  },
  {
   "cell_type": "code",
   "execution_count": 17,
   "metadata": {},
   "outputs": [],
   "source": [
    "if save :\n",
    "    np.save(name_file_to_save+'X_Tree'+str(name_tree), X)\n",
    "    np.save(name_file_to_save+'y_Tree'+str(name_tree), y)\n",
    "    np.save(name_file_to_save+'Tree'+str(name_tree)+'_mat_dist', mat_dist)\n",
    "    np.save(name_file_to_save+'Tree'+str(name_tree)+'_pseudotime', labs)"
   ]
  },
  {
   "cell_type": "code",
   "execution_count": null,
   "metadata": {},
   "outputs": [],
   "source": []
  },
  {
   "cell_type": "code",
   "execution_count": null,
   "metadata": {},
   "outputs": [],
   "source": []
  },
  {
   "cell_type": "code",
   "execution_count": null,
   "metadata": {},
   "outputs": [],
   "source": []
  },
  {
   "cell_type": "code",
   "execution_count": 18,
   "metadata": {
    "collapsed": false,
    "jupyter": {
     "outputs_hidden": false
    }
   },
   "outputs": [],
   "source": [
    "#mat_adj, mat_dist = create_matrix_from_dic(dict_edges)"
   ]
  },
  {
   "cell_type": "code",
   "execution_count": 19,
   "metadata": {
    "collapsed": false,
    "jupyter": {
     "outputs_hidden": false
    }
   },
   "outputs": [],
   "source": [
    "# if save :\n",
    "#     np.save(name_file_to_save+'X_Tree'+str(name_tree), X)\n",
    "#     np.save(name_file_to_save+'y_Tree'+str(name_tree), y)\n",
    "#     np.save(name_file_to_save+'Tree'+str(name_tree)+'_mat_dist', mat_dist)\n",
    "#     np.save(name_file_to_save+'Tree'+str(name_tree)+'_pseudotime', labs)\n"
   ]
  },
  {
   "cell_type": "code",
   "execution_count": 20,
   "metadata": {
    "collapsed": false,
    "jupyter": {
     "outputs_hidden": false
    }
   },
   "outputs": [],
   "source": [
    "# y = brns\n",
    "# mean = []\n",
    "# for mean_t in range(5):\n",
    "#     X_train, X_test, y_train, y_test = train_test_split(X, y, test_size=0.2)\n",
    "#     clf = OneVsRestClassifier(SVC()).fit(X, y)\n",
    "#     y_pred = clf.predict(X_test)\n",
    "#     mean.append(f1_score(y_test, y_pred, average='micro'))\n",
    "\n",
    "# print(np.mean(mean), np.std(mean))\n",
    "\n",
    "\n",
    "\n",
    "# if save :\n",
    "#     np.save(name_file_to_save+'result'+str(name_tree), mean)\n"
   ]
  },
  {
   "cell_type": "code",
   "execution_count": 21,
   "metadata": {},
   "outputs": [],
   "source": [
    "# print(mat_dist)\n",
    "# print(len(set(y)))"
   ]
  },
  {
   "cell_type": "code",
   "execution_count": null,
   "metadata": {},
   "outputs": [],
   "source": []
  },
  {
   "cell_type": "code",
   "execution_count": null,
   "metadata": {},
   "outputs": [],
   "source": []
  }
 ],
 "metadata": {
  "kernelspec": {
   "display_name": "Python 3",
   "language": "python",
   "name": "python3"
  },
  "language_info": {
   "codemirror_mode": {
    "name": "ipython",
    "version": 3
   },
   "file_extension": ".py",
   "mimetype": "text/x-python",
   "name": "python",
   "nbconvert_exporter": "python",
   "pygments_lexer": "ipython3",
   "version": "3.8.5"
  }
 },
 "nbformat": 4,
 "nbformat_minor": 4
}
