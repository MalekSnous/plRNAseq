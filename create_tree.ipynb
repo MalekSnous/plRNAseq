{
 "cells": [
  {
   "cell_type": "code",
   "execution_count": 20,
   "metadata": {
    "ExecuteTime": {
     "end_time": "2023-05-30T13:52:55.427122132Z",
     "start_time": "2023-05-30T13:52:55.380825477Z"
    },
    "collapsed": false,
    "jupyter": {
     "outputs_hidden": false
    }
   },
   "outputs": [
    {
     "name": "stdout",
     "output_type": "stream",
     "text": [
      "module: 50 lenght of tree : 21 nb_genes : 50 alpha_value : 0.1 topology : half\n"
     ]
    }
   ],
   "source": [
    "import os\n",
    "import anndata as ad\n",
    "from scanpy import pp\n",
    "from scanpy.tl import diffmap\n",
    "import numpy as np\n",
    "from numpy import random\n",
    "import scipy as sp\n",
    "from prosstt import tree\n",
    "from prosstt import simulation as sim\n",
    "from prosstt import sim_utils as sut\n",
    "from scanpy.tl import umap\n",
    "import matplotlib.cm as cm\n",
    "import matplotlib.pyplot as plt\n",
    "from prosstt import tree\n",
    "from sklearn.multiclass import OneVsRestClassifier\n",
    "from sklearn.svm import SVC\n",
    "from sklearn.model_selection import train_test_split\n",
    "from sklearn.metrics import f1_score\n",
    "#set random seed for reproducability\n",
    "\n",
    "rseed = 1312\n",
    "random.seed(rseed)\n",
    "\n",
    "dataset_number = 2\n",
    "topology_list = ['linear', 'binary', 'half']\n",
    "topology = topology_list[dataset_number]\n",
    "lengh_tree_liste = [254,8,21]\n",
    "lenght_tree = lengh_tree_liste[dataset_number]\n",
    "\n",
    "#\n",
    "value = 0.1\n",
    "modules = 10  # nb de programme genetique\n",
    "modules = 50\n",
    "\n",
    "draw = True\n",
    "multi_draw = False\n",
    "\n",
    "\n",
    "nb_genes = 50\n",
    "\n",
    "value_list = [0.1,0.5,1.0]  # alpha in NB sampling\n",
    "\n",
    "save = False\n",
    "print('module:', modules, 'lenght of tree :', lenght_tree, 'nb_genes :', nb_genes, 'alpha_value :',value,  'topology :', topology)"
   ]
  },
  {
   "cell_type": "code",
   "execution_count": null,
   "metadata": {},
   "outputs": [],
   "source": []
  },
  {
   "cell_type": "code",
   "execution_count": 21,
   "metadata": {
    "collapsed": false,
    "jupyter": {
     "outputs_hidden": false
    }
   },
   "outputs": [],
   "source": [
    "\n",
    "number_tree = topology\n",
    "nfactor = 11 # nb_sample_per_node = nfactor*10\n",
    "name_tree = '_'+str(modules)+'_'+str(value)\n",
    "name_file_to_save = '/home/malek/data/prosstt_data/Tree/'+str(topology)+'/'+str(lenght_tree)+'/'\n",
    "if save :\n",
    "    os.makedirs(name_file_to_save, exist_ok=True)\n",
    "\n"
   ]
  },
  {
   "cell_type": "code",
   "execution_count": 22,
   "metadata": {
    "collapsed": false,
    "jupyter": {
     "outputs_hidden": false
    }
   },
   "outputs": [],
   "source": [
    "def create_tree(lenght=5, topology='binary') :\n",
    "\n",
    "    list_edge = []\n",
    "    dict_edges = {}\n",
    "\n",
    "\n",
    "    if topology == 'binary' :\n",
    "        list_of_nodes = [element for element in range(sum([2**i for i in range(lenght + 1)]))]\n",
    "\n",
    "        #init\n",
    "        dict_edges[list_of_nodes[0]] = [list_of_nodes[1], list_of_nodes[2]]\n",
    "        list_edge.append([str(list_of_nodes[0]), str(list_of_nodes[1])])\n",
    "        list_edge.append([str(list_of_nodes[0]), str(list_of_nodes[2])])\n",
    "\n",
    "        for t in range(1,lenght) :\n",
    "\n",
    "            nodes_parent = list_of_nodes[2**(t -1) -1 : 2**(t) -1 ]\n",
    "            nodes = list_of_nodes[2**t -1 : 2**(t+1) -1 ]\n",
    "            nodes_child = list_of_nodes[2 ** (t+1) - 1: 2 ** (t + 2) - 1]\n",
    "            print(nodes_parent, nodes, nodes_child)\n",
    "\n",
    "            for indice, node in enumerate(nodes) :\n",
    "                liste_descendant = [nodes_child[2*indice], nodes_child[2*indice+1]]\n",
    "                liste_ascendante = [nodes_parent[int(indice/2)]]\n",
    "                dict_edges[node] = liste_descendant + liste_ascendante\n",
    "                list_edge.append([str(node), str(nodes_child[2*indice])])\n",
    "                list_edge.append([str(node), str(nodes_child[2 * indice+1]) ])\n",
    "\n",
    "        for indice, node in enumerate(nodes):\n",
    "            dict_edges[nodes_child[2 * indice]] = [node]\n",
    "            dict_edges[nodes_child[2 * indice + 1]] = [node]\n",
    "\n",
    "    if topology == 'linear':\n",
    "        list_of_nodes = [i for i in range(lenght +1 )]\n",
    "        \n",
    "        #init\n",
    "        dict_edges[list_of_nodes[0]] = [list_of_nodes[1]]\n",
    "        list_edge.append([str(list_of_nodes[0]), str(list_of_nodes[1])])\n",
    "\n",
    "        for t in range(1, lenght):\n",
    "            \n",
    "            nodes_parent = list_of_nodes[t-1]\n",
    "            nodes = list_of_nodes[t]\n",
    "            nodes_child = list_of_nodes[t+1]\n",
    "\n",
    "            liste_of_neighboor = [nodes_parent, nodes_child]\n",
    "            dict_edges[nodes] = liste_of_neighboor\n",
    "            list_edge.append([str(nodes), str(nodes_child)])\n",
    "\n",
    "        dict_edges[t] = [list_of_nodes[t -1],list_of_nodes[t + 1]]\n",
    "        dict_edges[t+1] = [list_of_nodes[t]]\n",
    "\n",
    "    if topology == 'half':\n",
    "        list_of_nodes = [element for element in range(sum([1 + i for i in range(lenght + 1)]))]\n",
    "        dict_edges = {}\n",
    "        list_edge = []\n",
    "        # init\n",
    "        dict_edges[list_of_nodes[0]] = [list_of_nodes[1], list_of_nodes[2]]\n",
    "        list_edge.append([str(list_of_nodes[0]), str(list_of_nodes[1])])\n",
    "        list_edge.append([str(list_of_nodes[0]), str(list_of_nodes[2])])\n",
    "\n",
    "        for t in range(1, lenght):\n",
    "            nodes_parent = list_of_nodes[sum([1 + i for i in range(t - 1)]): sum([1 + i for i in range(t)])]\n",
    "            nodes = list_of_nodes[sum([1 + i for i in range(t)]): sum([1 + i for i in range(t + 1)])]\n",
    "            nodes_child = list_of_nodes[sum([1 + i for i in range(t + 1)]): sum([1 + i for i in range(t + 2)])]\n",
    "\n",
    "            #print(nodes_parent, nodes, nodes_child)\n",
    "\n",
    "            for indice, node in enumerate(nodes):\n",
    "                if indice == 0:\n",
    "                    liste_descendant = [nodes_child[indice], nodes_child[indice + 1]]\n",
    "                    liste_ascendante = [nodes_parent[indice]]\n",
    "                    list_edge.append([str(node), str(nodes_child[2 * indice])])\n",
    "                    list_edge.append([str(node), str(nodes_child[2 * indice + 1])])\n",
    "                if indice != 0:\n",
    "                    liste_descendant = [nodes_child[indice + 1]]\n",
    "                    if indice == 1:\n",
    "                        liste_ascendante = [nodes_parent[int(indice / 2)]]\n",
    "                    else:\n",
    "                        liste_ascendante = [nodes_parent[indice - 1]]\n",
    "                    list_edge.append([str(node), str(nodes_child[indice + 1])])\n",
    "\n",
    "                dict_edges[node] = liste_descendant + liste_ascendante\n",
    "\n",
    "        for indice, node in enumerate(nodes):\n",
    "            if indice == 0:\n",
    "                dict_edges[nodes_child[indice]] = [node]\n",
    "            dict_edges[nodes_child[indice + 1]] = [node]\n",
    "\n",
    "    return list_edge, dict_edges\n",
    "\n",
    "\n"
   ]
  },
  {
   "cell_type": "code",
   "execution_count": 23,
   "metadata": {
    "collapsed": false,
    "jupyter": {
     "outputs_hidden": false
    }
   },
   "outputs": [
    {
     "name": "stdout",
     "output_type": "stream",
     "text": [
      "{0: [1, 2], 1: [3, 4, 0], 2: [5, 0], 3: [6, 7, 1], 4: [8, 1], 5: [9, 2], 6: [10, 11, 3], 7: [12, 3], 8: [13, 4], 9: [14, 5], 10: [15, 16, 6], 11: [17, 6], 12: [18, 7], 13: [19, 8], 14: [20, 9], 15: [21, 22, 10], 16: [23, 10], 17: [24, 11], 18: [25, 12], 19: [26, 13], 20: [27, 14], 21: [28, 29, 15], 22: [30, 15], 23: [31, 16], 24: [32, 17], 25: [33, 18], 26: [34, 19], 27: [35, 20], 28: [36, 37, 21], 29: [38, 21], 30: [39, 22], 31: [40, 23], 32: [41, 24], 33: [42, 25], 34: [43, 26], 35: [44, 27], 36: [45, 46, 28], 37: [47, 28], 38: [48, 29], 39: [49, 30], 40: [50, 31], 41: [51, 32], 42: [52, 33], 43: [53, 34], 44: [54, 35], 45: [55, 56, 36], 46: [57, 36], 47: [58, 37], 48: [59, 38], 49: [60, 39], 50: [61, 40], 51: [62, 41], 52: [63, 42], 53: [64, 43], 54: [65, 44], 55: [66, 67, 45], 56: [68, 45], 57: [69, 46], 58: [70, 47], 59: [71, 48], 60: [72, 49], 61: [73, 50], 62: [74, 51], 63: [75, 52], 64: [76, 53], 65: [77, 54], 66: [78, 79, 55], 67: [80, 55], 68: [81, 56], 69: [82, 57], 70: [83, 58], 71: [84, 59], 72: [85, 60], 73: [86, 61], 74: [87, 62], 75: [88, 63], 76: [89, 64], 77: [90, 65], 78: [91, 92, 66], 79: [93, 66], 80: [94, 67], 81: [95, 68], 82: [96, 69], 83: [97, 70], 84: [98, 71], 85: [99, 72], 86: [100, 73], 87: [101, 74], 88: [102, 75], 89: [103, 76], 90: [104, 77], 91: [105, 106, 78], 92: [107, 78], 93: [108, 79], 94: [109, 80], 95: [110, 81], 96: [111, 82], 97: [112, 83], 98: [113, 84], 99: [114, 85], 100: [115, 86], 101: [116, 87], 102: [117, 88], 103: [118, 89], 104: [119, 90], 105: [120, 121, 91], 106: [122, 91], 107: [123, 92], 108: [124, 93], 109: [125, 94], 110: [126, 95], 111: [127, 96], 112: [128, 97], 113: [129, 98], 114: [130, 99], 115: [131, 100], 116: [132, 101], 117: [133, 102], 118: [134, 103], 119: [135, 104], 120: [136, 137, 105], 121: [138, 105], 122: [139, 106], 123: [140, 107], 124: [141, 108], 125: [142, 109], 126: [143, 110], 127: [144, 111], 128: [145, 112], 129: [146, 113], 130: [147, 114], 131: [148, 115], 132: [149, 116], 133: [150, 117], 134: [151, 118], 135: [152, 119], 136: [153, 154, 120], 137: [155, 120], 138: [156, 121], 139: [157, 122], 140: [158, 123], 141: [159, 124], 142: [160, 125], 143: [161, 126], 144: [162, 127], 145: [163, 128], 146: [164, 129], 147: [165, 130], 148: [166, 131], 149: [167, 132], 150: [168, 133], 151: [169, 134], 152: [170, 135], 153: [171, 172, 136], 154: [173, 136], 155: [174, 137], 156: [175, 138], 157: [176, 139], 158: [177, 140], 159: [178, 141], 160: [179, 142], 161: [180, 143], 162: [181, 144], 163: [182, 145], 164: [183, 146], 165: [184, 147], 166: [185, 148], 167: [186, 149], 168: [187, 150], 169: [188, 151], 170: [189, 152], 171: [190, 191, 153], 172: [192, 153], 173: [193, 154], 174: [194, 155], 175: [195, 156], 176: [196, 157], 177: [197, 158], 178: [198, 159], 179: [199, 160], 180: [200, 161], 181: [201, 162], 182: [202, 163], 183: [203, 164], 184: [204, 165], 185: [205, 166], 186: [206, 167], 187: [207, 168], 188: [208, 169], 189: [209, 170], 190: [210, 211, 171], 191: [212, 171], 192: [213, 172], 193: [214, 173], 194: [215, 174], 195: [216, 175], 196: [217, 176], 197: [218, 177], 198: [219, 178], 199: [220, 179], 200: [221, 180], 201: [222, 181], 202: [223, 182], 203: [224, 183], 204: [225, 184], 205: [226, 185], 206: [227, 186], 207: [228, 187], 208: [229, 188], 209: [230, 189], 210: [231, 232, 190], 211: [233, 190], 212: [234, 191], 213: [235, 192], 214: [236, 193], 215: [237, 194], 216: [238, 195], 217: [239, 196], 218: [240, 197], 219: [241, 198], 220: [242, 199], 221: [243, 200], 222: [244, 201], 223: [245, 202], 224: [246, 203], 225: [247, 204], 226: [248, 205], 227: [249, 206], 228: [250, 207], 229: [251, 208], 230: [252, 209], 231: [210], 232: [210], 233: [211], 234: [212], 235: [213], 236: [214], 237: [215], 238: [216], 239: [217], 240: [218], 241: [219], 242: [220], 243: [221], 244: [222], 245: [223], 246: [224], 247: [225], 248: [226], 249: [227], 250: [228], 251: [229], 252: [230]}\n",
      "[['0', '1'], ['0', '2'], ['1', '3'], ['1', '4'], ['2', '5'], ['3', '6'], ['3', '7'], ['4', '8'], ['5', '9'], ['6', '10'], ['6', '11'], ['7', '12'], ['8', '13'], ['9', '14'], ['10', '15'], ['10', '16'], ['11', '17'], ['12', '18'], ['13', '19'], ['14', '20'], ['15', '21'], ['15', '22'], ['16', '23'], ['17', '24'], ['18', '25'], ['19', '26'], ['20', '27'], ['21', '28'], ['21', '29'], ['22', '30'], ['23', '31'], ['24', '32'], ['25', '33'], ['26', '34'], ['27', '35'], ['28', '36'], ['28', '37'], ['29', '38'], ['30', '39'], ['31', '40'], ['32', '41'], ['33', '42'], ['34', '43'], ['35', '44'], ['36', '45'], ['36', '46'], ['37', '47'], ['38', '48'], ['39', '49'], ['40', '50'], ['41', '51'], ['42', '52'], ['43', '53'], ['44', '54'], ['45', '55'], ['45', '56'], ['46', '57'], ['47', '58'], ['48', '59'], ['49', '60'], ['50', '61'], ['51', '62'], ['52', '63'], ['53', '64'], ['54', '65'], ['55', '66'], ['55', '67'], ['56', '68'], ['57', '69'], ['58', '70'], ['59', '71'], ['60', '72'], ['61', '73'], ['62', '74'], ['63', '75'], ['64', '76'], ['65', '77'], ['66', '78'], ['66', '79'], ['67', '80'], ['68', '81'], ['69', '82'], ['70', '83'], ['71', '84'], ['72', '85'], ['73', '86'], ['74', '87'], ['75', '88'], ['76', '89'], ['77', '90'], ['78', '91'], ['78', '92'], ['79', '93'], ['80', '94'], ['81', '95'], ['82', '96'], ['83', '97'], ['84', '98'], ['85', '99'], ['86', '100'], ['87', '101'], ['88', '102'], ['89', '103'], ['90', '104'], ['91', '105'], ['91', '106'], ['92', '107'], ['93', '108'], ['94', '109'], ['95', '110'], ['96', '111'], ['97', '112'], ['98', '113'], ['99', '114'], ['100', '115'], ['101', '116'], ['102', '117'], ['103', '118'], ['104', '119'], ['105', '120'], ['105', '121'], ['106', '122'], ['107', '123'], ['108', '124'], ['109', '125'], ['110', '126'], ['111', '127'], ['112', '128'], ['113', '129'], ['114', '130'], ['115', '131'], ['116', '132'], ['117', '133'], ['118', '134'], ['119', '135'], ['120', '136'], ['120', '137'], ['121', '138'], ['122', '139'], ['123', '140'], ['124', '141'], ['125', '142'], ['126', '143'], ['127', '144'], ['128', '145'], ['129', '146'], ['130', '147'], ['131', '148'], ['132', '149'], ['133', '150'], ['134', '151'], ['135', '152'], ['136', '153'], ['136', '154'], ['137', '155'], ['138', '156'], ['139', '157'], ['140', '158'], ['141', '159'], ['142', '160'], ['143', '161'], ['144', '162'], ['145', '163'], ['146', '164'], ['147', '165'], ['148', '166'], ['149', '167'], ['150', '168'], ['151', '169'], ['152', '170'], ['153', '171'], ['153', '172'], ['154', '173'], ['155', '174'], ['156', '175'], ['157', '176'], ['158', '177'], ['159', '178'], ['160', '179'], ['161', '180'], ['162', '181'], ['163', '182'], ['164', '183'], ['165', '184'], ['166', '185'], ['167', '186'], ['168', '187'], ['169', '188'], ['170', '189'], ['171', '190'], ['171', '191'], ['172', '192'], ['173', '193'], ['174', '194'], ['175', '195'], ['176', '196'], ['177', '197'], ['178', '198'], ['179', '199'], ['180', '200'], ['181', '201'], ['182', '202'], ['183', '203'], ['184', '204'], ['185', '205'], ['186', '206'], ['187', '207'], ['188', '208'], ['189', '209'], ['190', '210'], ['190', '211'], ['191', '212'], ['192', '213'], ['193', '214'], ['194', '215'], ['195', '216'], ['196', '217'], ['197', '218'], ['198', '219'], ['199', '220'], ['200', '221'], ['201', '222'], ['202', '223'], ['203', '224'], ['204', '225'], ['205', '226'], ['206', '227'], ['207', '228'], ['208', '229'], ['209', '230'], ['210', '231'], ['210', '232'], ['211', '233'], ['212', '234'], ['213', '235'], ['214', '236'], ['215', '237'], ['216', '238'], ['217', '239'], ['218', '240'], ['219', '241'], ['220', '242'], ['221', '243'], ['222', '244'], ['223', '245'], ['224', '246'], ['225', '247'], ['226', '248'], ['227', '249'], ['228', '250'], ['229', '251'], ['230', '252']]\n"
     ]
    }
   ],
   "source": [
    "list_edge, dict_edges = create_tree(lenght=lenght_tree, topology=topology)\n",
    "print(dict_edges)\n",
    "print(list_edge)"
   ]
  },
  {
   "cell_type": "code",
   "execution_count": null,
   "metadata": {
    "collapsed": false,
    "jupyter": {
     "outputs_hidden": false
    }
   },
   "outputs": [
    {
     "name": "stderr",
     "output_type": "stream",
     "text": [
      "/home/malek/anaconda3/lib/python3.8/site-packages/prosstt-1.2.0-py3.8.egg/prosstt/simulation.py:153: UserWarning: No argument 'a' specified in kwargs: using gamma and a=0.04\n",
      "/home/malek/anaconda3/lib/python3.8/site-packages/scipy/stats/stats.py:3845: PearsonRConstantInputWarning: An input array is constant; the correlation coefficent is not defined.\n",
      "  warnings.warn(PearsonRConstantInputWarning())\n"
     ]
    }
   ],
   "source": [
    "\n",
    "top = list_edge\n",
    "branches = np.unique(np.array(top).flatten())\n",
    "time = {b: nfactor*10 for b in branches}  #ce qui revient au nombre de cell généré car ça définit la densité dans le sampling\n",
    "G = nb_genes\n",
    "t = tree.Tree(topology=top, G=G, time=time, num_branches=len(branches), branch_points=1, modules=modules)\n",
    "\n",
    "\n",
    "uMs, Ws, Hs = sim.simulate_lineage(t, intra_branch_tol=-1, inter_branch_tol=0)\n",
    "gene_scale = sut.simulate_base_gene_exp(t, uMs)\n",
    "t.add_genes(uMs, gene_scale)\n",
    "\n",
    "mya = np.min([0.05, 1 / t.modules])\n",
    "uMs, Ws, Hs = sim.simulate_lineage(t, a=mya, intra_branch_tol=-1, inter_branch_tol=0)\n",
    "gene_scale = sut.simulate_base_gene_exp(t, uMs)\n",
    "t.add_genes(uMs, gene_scale)\n",
    "\n",
    "alpha = np.array([value]*t.G)\n",
    "beta = np.array([1.5] * t.G)\n",
    "\n",
    "X, labs, brns, scalings = sim.sample_whole_tree(t, n_factor=nfactor, alpha=alpha, beta=beta)\n",
    "X = (X.transpose() / scalings).transpose()\n",
    "\n",
    "br_names, indices = np.unique(brns, return_inverse=True)\n",
    "\n"
   ]
  },
  {
   "cell_type": "code",
   "execution_count": 6,
   "metadata": {
    "collapsed": false,
    "jupyter": {
     "outputs_hidden": false
    }
   },
   "outputs": [
    {
     "data": {
      "image/png": "[encoded data removed]",
      "text/plain": [
       "<Figure size 432x288 with 1 Axes>"
      ]
     },
     "metadata": {
      "needs_background": "light"
     },
     "output_type": "display_data"
    }
   ],
   "source": [
    "\n",
    "if draw :\n",
    "    data = ad.AnnData(np.log(X + 1))\n",
    "    pp.neighbors(data, use_rep='X')\n",
    "    umap(data)\n",
    "    dm = data.obsm[\"X_umap\"]\n",
    "    fig = plt.figure()\n",
    "    dm = data.obsm[\"X_umap\"]\n",
    "    br_names, indices = np.unique(brns, return_inverse=True)\n",
    "    plt.scatter(dm[:, 0], dm[:, 1], c=labs, alpha=0.2)\n",
    "    if save : \n",
    "        plt.savefig(name_file_to_save+'X_Tree'+str(name_tree)+'.jpeg')\n",
    "    plt.show()\n",
    "\n"
   ]
  },
  {
   "cell_type": "code",
   "execution_count": 7,
   "metadata": {},
   "outputs": [
    {
     "data": {
      "image/png": "[encoded data removed]",
      "text/plain": [
       "<Figure size 432x288 with 1 Axes>"
      ]
     },
     "metadata": {
      "needs_background": "light"
     },
     "output_type": "display_data"
    }
   ],
   "source": [
    "# dm = data.obsm[\"X_umap\"]\n",
    "# fig = plt.figure()\n",
    "# dm = data.obsm[\"X_umap\"]\n",
    "# br_names, indices = np.unique(brns, return_inverse=True)\n",
    "# plt.scatter(dm[:, 0], dm[:, 1], c=labs, alpha=0.2)\n",
    "# if save : \n",
    "#         plt.savefig(name_file_to_save+'X_Tree'+str(name_tree)+'+-'+str(value)+'.jpeg')"
   ]
  },
  {
   "cell_type": "code",
   "execution_count": 8,
   "metadata": {
    "collapsed": false,
    "jupyter": {
     "outputs_hidden": false
    }
   },
   "outputs": [],
   "source": [
    "\n",
    "if multi_draw :\n",
    "    fig, ax = plt.subplots(nrows=1,ncols=2)\n",
    "\n",
    "    for v,value in enumerate([0.1, 1]):\n",
    "        alpha = np.array([value]*t.G)\n",
    "        beta = np.array([value*10]*t.G)\n",
    "        beta = np.array([1.5] * t.G)\n",
    "        X, labs, brns, scalings = sim.sample_whole_tree(t, n_factor=nfactor, alpha=alpha, beta=beta)\n",
    "        # normalize gene expression by library size\n",
    "        X = (X.transpose() / scalings).transpose()\n",
    "        data = ad.AnnData(np.log(X+1))\n",
    "        pp.neighbors(data, use_rep='X')\n",
    "        umap(data)\n",
    "        dm = data.obsm[\"X_umap\"]\n",
    "        br_names, indices = np.unique(brns, return_inverse=True)\n",
    "\n",
    "        #ax[0][v].scatter(dm[:, 0], dm[:, 1], c=indices, alpha=0.2)\n",
    "        ax[v].scatter(dm[:, 0], dm[:, 1], c=labs, alpha=0.2)\n",
    "\n",
    "    if save :\n",
    "        plt.savefig(name_file_to_save+'X_Tree'+str(number_tree)+'+-'+str(value)+'.jpeg')\n",
    "    plt.show()\n",
    "    #np.save(name_file_to_save+'X_Tree'+str(number_tree)+'+-', X)"
   ]
  },
  {
   "cell_type": "code",
   "execution_count": 7,
   "metadata": {
    "collapsed": false,
    "jupyter": {
     "outputs_hidden": false
    }
   },
   "outputs": [],
   "source": [
    "\n",
    "set_names = br_names.tolist()\n",
    "X, y = X, brns\n"
   ]
  },
  {
   "cell_type": "code",
   "execution_count": 8,
   "metadata": {
    "collapsed": false,
    "jupyter": {
     "outputs_hidden": false
    }
   },
   "outputs": [],
   "source": [
    "def BFS_SP(graph, start, goal):\n",
    "    explored = []\n",
    "    queue = [[start]]\n",
    "    if start == goal:\n",
    "        print(\"Same Node\")\n",
    "        return\n",
    "    while queue:\n",
    "        path = queue.pop(0)\n",
    "        node = path[-1]\n",
    "        if node not in explored:\n",
    "            neighbours = graph[node]\n",
    "            for neighbour in neighbours:\n",
    "                new_path = list(path)\n",
    "                new_path.append(neighbour)\n",
    "                queue.append(new_path)\n",
    "                if neighbour == goal:\n",
    "                    return len(new_path) - 1\n",
    "    print(\"So sorry, but a connecting path doesn't exist :(\")\n",
    "    return explored\n",
    "\n",
    "def create_matrix_from_dic(dic):\n",
    "    names_genea = sorted(list(set(list(sorted(dic.keys())))))\n",
    "    c = len(dic)\n",
    "    mat_adj = np.zeros((c, c))\n",
    "    for i in range(c):\n",
    "        for j in dic[names_genea[i]]:\n",
    "            index_j = names_genea.index(j)\n",
    "            mat_adj[i, index_j] = 1\n",
    "\n",
    "    list_exception = np.where(mat_adj - mat_adj.T > 0)\n",
    "\n",
    "    mat_dist = np.zeros((c, c))\n",
    "    for i in range(c):\n",
    "        for j in range(i + 1, c):\n",
    "            mat_dist[i, j] = BFS_SP(dic, names_genea[i], names_genea[j])\n",
    "\n",
    "\n",
    "    return mat_adj, mat_dist + mat_dist.T\n"
   ]
  },
  {
   "cell_type": "code",
   "execution_count": 9,
   "metadata": {
    "collapsed": false,
    "jupyter": {
     "outputs_hidden": false
    }
   },
   "outputs": [],
   "source": [
    "liste_edges = t.topology\n",
    "liste_neighboors = [[element[0]  for element in liste_edges  if (key in element[1]) ] + [element[1]  for element in liste_edges  if (key in element[0]) ]   for key in br_names]\n",
    "#dict_edges_bis = dict(zip(br_names,liste_neighboors))"
   ]
  },
  {
   "cell_type": "code",
   "execution_count": null,
   "metadata": {},
   "outputs": [],
   "source": []
  },
  {
   "cell_type": "code",
   "execution_count": 10,
   "metadata": {},
   "outputs": [],
   "source": [
    "import networkx as nx\n",
    "def create_C(dict_edges):\n",
    "    G = nx.Graph(dict_edges)\n",
    "    nodes = list(G.nodes)\n",
    "    c = len(nodes)\n",
    "    mat_dist = np.zeros((c, c))\n",
    "    for i in range(c):\n",
    "        for j in range(i + 1, c):\n",
    "            mat_dist[i, j] = len(nx.shortest_path(G, source=i, target=j)) -1\n",
    "    return mat_dist + mat_dist.T\n"
   ]
  },
  {
   "cell_type": "code",
   "execution_count": 11,
   "metadata": {},
   "outputs": [],
   "source": [
    "mat_dist = create_C(dict_edges)"
   ]
  },
  {
   "cell_type": "code",
   "execution_count": 12,
   "metadata": {},
   "outputs": [
    {
     "data": {
      "text/plain": [
       "array([1., 0., 2., 1., 1., 3., 3., 2., 2., 2., 2., 4., 4., 4., 4.])"
      ]
     },
     "execution_count": 12,
     "metadata": {},
     "output_type": "execute_result"
    }
   ],
   "source": [
    "mat_dist[1]"
   ]
  },
  {
   "cell_type": "code",
   "execution_count": 19,
   "metadata": {},
   "outputs": [
    {
     "name": "stdout",
     "output_type": "stream",
     "text": [
      "(18150, 50)\n",
      "18150\n",
      "(15, 15)\n",
      "11\n",
      "[1210, 1210, 1210, 1210, 1210, 1210, 1210, 1210, 1210, 1210, 1210, 1210, 1210, 1210, 1210]\n"
     ]
    }
   ],
   "source": [
    "print(X.shape)\n",
    "print(len(y))\n",
    "print(mat_dist.shape)\n",
    "print(nfactor)\n",
    "print([list(y).count(str(c)) for c in range(mat_dist.shape[0])])\n"
   ]
  },
  {
   "cell_type": "code",
   "execution_count": 17,
   "metadata": {},
   "outputs": [
    {
     "name": "stdout",
     "output_type": "stream",
     "text": [
      "1210\n"
     ]
    }
   ],
   "source": [
    "print(list(y).count('0'))"
   ]
  },
  {
   "cell_type": "code",
   "execution_count": 16,
   "metadata": {},
   "outputs": [
    {
     "data": {
      "text/plain": [
       "'_50_0.1_nfactor_10'"
      ]
     },
     "execution_count": 16,
     "metadata": {},
     "output_type": "execute_result"
    }
   ],
   "source": [
    "save = True\n",
    "name_tree = '_'+str(modules)+'_'+str(value)+'_nfactor_'+str(nfactor)\n",
    "name_tree"
   ]
  },
  {
   "cell_type": "code",
   "execution_count": 17,
   "metadata": {},
   "outputs": [],
   "source": [
    "if save :\n",
    "    np.save(name_file_to_save+'X_Tree'+str(name_tree), X)\n",
    "    np.save(name_file_to_save+'y_Tree'+str(name_tree), y)\n",
    "    np.save(name_file_to_save+'Tree'+str(name_tree)+'_mat_dist', mat_dist)\n",
    "    np.save(name_file_to_save+'Tree'+str(name_tree)+'_pseudotime', labs)"
   ]
  },
  {
   "cell_type": "code",
   "execution_count": null,
   "metadata": {},
   "outputs": [],
   "source": []
  },
  {
   "cell_type": "code",
   "execution_count": null,
   "metadata": {},
   "outputs": [],
   "source": []
  },
  {
   "cell_type": "code",
   "execution_count": null,
   "metadata": {},
   "outputs": [],
   "source": []
  },
  {
   "cell_type": "code",
   "execution_count": 18,
   "metadata": {
    "collapsed": false,
    "jupyter": {
     "outputs_hidden": false
    }
   },
   "outputs": [],
   "source": []
  },
  {
   "cell_type": "code",
   "execution_count": 19,
   "metadata": {
    "collapsed": false,
    "jupyter": {
     "outputs_hidden": false
    }
   },
   "outputs": [],
   "source": []
  },
  {
   "cell_type": "code",
   "execution_count": 20,
   "metadata": {
    "collapsed": false,
    "jupyter": {
     "outputs_hidden": false
    }
   },
   "outputs": [],
   "source": []
  },
  {
   "cell_type": "code",
   "execution_count": 21,
   "metadata": {},
   "outputs": [],
   "source": []
  },
  {
   "cell_type": "code",
   "execution_count": null,
   "metadata": {},
   "outputs": [],
   "source": []
  },
  {
   "cell_type": "code",
   "execution_count": null,
   "metadata": {},
   "outputs": [],
   "source": []
  }
 ],
 "metadata": {
  "kernelspec": {
   "display_name": "Python 3",
   "language": "python",
   "name": "python3"
  },
  "language_info": {
   "codemirror_mode": {
    "name": "ipython",
    "version": 3
   },
   "file_extension": ".py",
   "mimetype": "text/x-python",
   "name": "python",
   "nbconvert_exporter": "python",
   "pygments_lexer": "ipython3",
   "version": "3.8.5"
  }
 },
 "nbformat": 4,
 "nbformat_minor": 4
}
